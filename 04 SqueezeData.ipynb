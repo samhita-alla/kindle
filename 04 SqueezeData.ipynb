{
 "cells": [
  {
   "cell_type": "markdown",
   "metadata": {},
   "source": [
    "### Loading data - CIFAR10"
   ]
  },
  {
   "cell_type": "code",
   "execution_count": 65,
   "metadata": {},
   "outputs": [],
   "source": [
    "import torch\n",
    "import torchvision\n",
    "import torchvision.transforms as transforms"
   ]
  },
  {
   "cell_type": "code",
   "execution_count": 66,
   "metadata": {},
   "outputs": [
    {
     "name": "stdout",
     "output_type": "stream",
     "text": [
      "Files already downloaded and verified\n",
      "Files already downloaded and verified\n"
     ]
    }
   ],
   "source": [
    "\"\"\"\n",
    "torchvision.datasets returns PILimages (Python Imaging Library) of range [0,1]. We now \n",
    "transform them into Tensors of normalized range [-1,1]. Why PIL previously? This enables \n",
    "us to display images onto the screen, but to perform computations using an NN, we need to \n",
    "transform them into PyTorch Tensors. \n",
    "transforms.Normalize((0.5, 0.5, 0.5),(0.5, 0.5, 0.5)) - the first set of 0.5's indicate \n",
    "the mean for 3 color channels -- RGB. The second set of 0.5's indicate the standard deviation. \n",
    "-- These are per-channel mean/stds.\n",
    "\n",
    "Normalize does the following for each channel:\n",
    "\n",
    "image = (image - mean) / std\n",
    "\n",
    "The parameters mean, std are passed as 0.5, 0.5 in this case. This will normalize the image \n",
    "in the range [-1,1]. \n",
    "For example, the minimum value 0 will be converted to (0-0.5)/0.5=-1, the maximum value of 1 \n",
    "will be converted to (1-0.5)/0.5=1.\n",
    "Why [-1,1] and why not [0,1]? [-1,1] gives a better accuracy of the model.\n",
    "\n",
    "\"\"\"\n",
    "transform = transforms.Compose([transforms.ToTensor(), transforms.Normalize((0.5, 0.5, 0.5),(0.5, 0.5, 0.5))])\n",
    "\n",
    "\"\"\"\n",
    "num_workers (int, optional) – how many subprocesses to use for data loading. 0 means that the \n",
    "data will be loaded in the main process. (default: 0)\n",
    "\n",
    "\"\"\"\n",
    "trainset = torchvision.datasets.CIFAR10(root='./datasets/',train=True, download=True, transform=transform)\n",
    "trainLoader = torch.utils.data.DataLoader(trainset, batch_size=5, shuffle = True, num_workers=2)\n",
    "\n",
    "testset = torchvision.datasets.CIFAR10(root='./datasets/', train=False, download=True, transform=transform)\n",
    "testLoader = torch.utils.data.DataLoader(testset, batch_size=5, shuffle=False, num_workers=2)"
   ]
  },
  {
   "cell_type": "code",
   "execution_count": 67,
   "metadata": {},
   "outputs": [],
   "source": [
    "classes = ('plane', 'car', 'bird', 'cat', 'deer', 'dog', 'frog', 'horse', 'ship', 'truck')"
   ]
  },
  {
   "cell_type": "code",
   "execution_count": 68,
   "metadata": {},
   "outputs": [
    {
     "name": "stdout",
     "output_type": "stream",
     "text": [
      "ship frog deer plane horse\n"
     ]
    },
    {
     "data": {
      "image/png": "[encoded data removed]",
      "text/plain": [
       "<Figure size 432x288 with 1 Axes>"
      ]
     },
     "metadata": {},
     "output_type": "display_data"
    }
   ],
   "source": [
    "import matplotlib.pyplot as plt\n",
    "import numpy as np\n",
    "\n",
    "def imshow(image):\n",
    "    image = image/2 + 0.5 # Un-normalizing\n",
    "    numpy_image = image.numpy()\n",
    "    \"\"\"\n",
    "    The dimensions will be changed.\n",
    "    In PyTorch, the order of dimension is channel*width*height but in matplotlib \n",
    "    it’s width*height*channel. \n",
    "    That’s why the transpose is needed. -- the first dimension will be placed as the 3rd arg.\n",
    "    Second dimension as first arg.\n",
    "    Third dimension as second arg.\n",
    "    \n",
    "    \"\"\"\n",
    "    plt.imshow(np.transpose(numpy_image,(1,2,0)))\n",
    "\n",
    "# Random training images -- a batch of 8 images\n",
    "dataiter = iter(trainLoader)\n",
    "images, labels = dataiter.next()\n",
    "\n",
    "# show images\n",
    "imshow(torchvision.utils.make_grid(images))\n",
    "\n",
    "# show labels\n",
    "print(' '.join('%4s' % classes[labels[j]] for j in range(5)))"
   ]
  },
  {
   "cell_type": "markdown",
   "metadata": {},
   "source": [
    "### CNN"
   ]
  },
  {
   "cell_type": "code",
   "execution_count": 72,
   "metadata": {},
   "outputs": [],
   "source": [
    "import torch.nn as nn\n",
    "import torch.nn.functional as F\n",
    "\n",
    "\n",
    "class Net(nn.Module):\n",
    "    def __init__(self):\n",
    "        super(Net, self).__init__()\n",
    "        self.conv1 = nn.Conv2d(3, 64, 4)\n",
    "        self.pool = nn.MaxPool2d(2, 2)\n",
    "        self.conv2 = nn.Conv2d(64, 128, 4)\n",
    "        self.fc1 = nn.Linear(128 * 5 * 5, 512)\n",
    "        self.fc2 = nn.Linear(512, 120)\n",
    "        self.fc3 = nn.Linear(120, 84)\n",
    "        self.fc4 = nn.Linear(84, 10)\n",
    "\n",
    "    # Pooling can either be defined as a function or as a layer. Anything can be done!\n",
    "    def forward(self, x):\n",
    "        x = self.pool(F.relu(self.conv1(x)))\n",
    "        x = self.pool(F.relu(self.conv2(x)))\n",
    "        x = x.view(-1, 128 * 5 * 5)\n",
    "        x = F.relu(self.fc1(x))\n",
    "        x = F.relu(self.fc2(x))\n",
    "        x = F.relu(self.fc3(x))\n",
    "        x = self.fc4(x)\n",
    "        return x\n",
    "\n",
    "\n",
    "net = Net()"
   ]
  },
  {
   "cell_type": "markdown",
   "metadata": {},
   "source": [
    "### Loss and Optimizer"
   ]
  },
  {
   "cell_type": "code",
   "execution_count": 73,
   "metadata": {},
   "outputs": [],
   "source": [
    "import torch.optim as optim\n",
    "\n",
    "criterion = nn.CrossEntropyLoss()\n",
    "optimizer = optim.SGD(net.parameters(), lr = 0.001, momentum = 0.8)"
   ]
  },
  {
   "cell_type": "markdown",
   "metadata": {},
   "source": [
    "### Training phase"
   ]
  },
  {
   "cell_type": "code",
   "execution_count": 74,
   "metadata": {},
   "outputs": [
    {
     "name": "stdout",
     "output_type": "stream",
     "text": [
      "[1  2000] loss=2.285\n",
      "[1  4000] loss=2.010\n",
      "[1  6000] loss=1.776\n",
      "[1  8000] loss=1.658\n",
      "[1 10000] loss=1.566\n",
      "[2  2000] loss=1.454\n",
      "[2  4000] loss=1.401\n",
      "[2  6000] loss=1.350\n",
      "[2  8000] loss=1.303\n",
      "[2 10000] loss=1.254\n",
      "[3  2000] loss=1.192\n",
      "[3  4000] loss=1.145\n",
      "[3  6000] loss=1.103\n",
      "[3  8000] loss=1.090\n",
      "[3 10000] loss=1.027\n",
      "[4  2000] loss=0.960\n",
      "[4  4000] loss=0.950\n",
      "[4  6000] loss=0.924\n",
      "[4  8000] loss=0.932\n",
      "[4 10000] loss=0.900\n",
      "[5  2000] loss=0.805\n",
      "[5  4000] loss=0.810\n",
      "[5  6000] loss=0.783\n",
      "[5  8000] loss=0.782\n",
      "[5 10000] loss=0.761\n",
      "Done training!\n"
     ]
    }
   ],
   "source": [
    "# 6000 batches -- 50000(total number of images in the trainset)/5(batch_size) = 10000 \n",
    "for epoch in range(5):\n",
    "    running_loss = 0.0\n",
    "    for i, data in enumerate(trainLoader,0):\n",
    "        images, labels = data\n",
    "        optimizer.zero_grad()\n",
    "        out = net(images)\n",
    "        loss = criterion(out, labels)\n",
    "        loss.backward()\n",
    "        optimizer.step()\n",
    "        \n",
    "        running_loss += loss.item()\n",
    "        if i%2000 == 1999:\n",
    "            print('[%d %5d] loss=%.3f' % (epoch+1, i+1, running_loss/2000)) # printing loss per image -- avg loss\n",
    "            running_loss =0.0\n",
    "print('Done training!')"
   ]
  },
  {
   "cell_type": "markdown",
   "metadata": {},
   "source": [
    "### Testing phase"
   ]
  },
  {
   "cell_type": "code",
   "execution_count": 75,
   "metadata": {},
   "outputs": [
    {
     "name": "stdout",
     "output_type": "stream",
     "text": [
      " cat ship ship plane frog\n"
     ]
    },
    {
     "data": {
      "image/png": "[encoded data removed]",
      "text/plain": [
       "<Figure size 432x288 with 1 Axes>"
      ]
     },
     "metadata": {},
     "output_type": "display_data"
    }
   ],
   "source": [
    "dataiter = iter(testLoader)\n",
    "images, labels = dataiter.next()\n",
    "\n",
    "# show images\n",
    "imshow(torchvision.utils.make_grid(images))\n",
    "\n",
    "# show labels\n",
    "print(' '.join('%4s' % classes[labels[j]] for j in range(5)))"
   ]
  },
  {
   "cell_type": "code",
   "execution_count": 76,
   "metadata": {},
   "outputs": [
    {
     "name": "stdout",
     "output_type": "stream",
     "text": [
      "<class 'torch.Tensor'>\n"
     ]
    }
   ],
   "source": [
    "outputs = net(images)\n",
    "print(type(outputs))"
   ]
  },
  {
   "cell_type": "code",
   "execution_count": 77,
   "metadata": {},
   "outputs": [
    {
     "data": {
      "text/plain": [
       "tensor([[ 0.2919, -1.8117, -0.0445,  3.8632, -1.0957,  1.9138,  0.5646, -2.5407,\n",
       "          1.6533, -2.1902],\n",
       "        [ 5.1976,  7.0596, -1.3874, -0.9124, -5.5242, -4.4233, -3.2314, -6.8318,\n",
       "          9.6726,  3.1701],\n",
       "        [ 2.8081,  3.5240, -0.5491, -0.2909, -2.2149, -2.2391, -1.6160, -2.6184,\n",
       "          3.4626,  1.0756],\n",
       "        [ 6.8319,  2.6141,  0.8498, -0.9237, -2.5095, -3.7145, -1.7075, -4.0750,\n",
       "          4.2288, -0.2787],\n",
       "        [-4.3006, -4.0533,  3.4027,  4.1486,  4.8351,  2.3775,  6.0254, -2.5893,\n",
       "         -3.8041, -5.5268]], grad_fn=<ThAddmmBackward>)"
      ]
     },
     "execution_count": 77,
     "metadata": {},
     "output_type": "execute_result"
    }
   ],
   "source": [
    "outputs"
   ]
  },
  {
   "cell_type": "code",
   "execution_count": 78,
   "metadata": {},
   "outputs": [
    {
     "name": "stdout",
     "output_type": "stream",
     "text": [
      "Predicted classes:    cat  ship   car plane  frog\n"
     ]
    }
   ],
   "source": [
    "_,predicted = torch.max(outputs, 1) # 1 -- is the number of axes -- 1D, _ -- is the max value, predicted -- \n",
    "# arrays of indices\n",
    "print('Predicted classes: ',' '.join('%5s' % classes[predicted[j]] for j in range(5)))"
   ]
  },
  {
   "cell_type": "markdown",
   "metadata": {},
   "source": [
    "### Accuracy"
   ]
  },
  {
   "cell_type": "code",
   "execution_count": 79,
   "metadata": {},
   "outputs": [
    {
     "name": "stdout",
     "output_type": "stream",
     "text": [
      "Accuracy on 10000 test images: 71 %\n"
     ]
    }
   ],
   "source": [
    "correct = 0\n",
    "total = 0\n",
    "# Deactivates the autograd engine and reduces the memory consumption\n",
    "with torch.no_grad():\n",
    "    for data in testLoader:\n",
    "        images, labels = data\n",
    "        output = net(images)\n",
    "        _,predicted = torch.max(output,1)\n",
    "        total += labels.size(0) # 5 -- labels.size(0)\n",
    "        # sum() returns a single values tensor indicating the number of rightly labelled values\n",
    "        # item() returns the val in the above tensor.\n",
    "        correct += (predicted==labels).sum().item() \n",
    "\n",
    "print('Accuracy on 10000 test images: %d %%' %((correct * 100)/total))"
   ]
  },
  {
   "cell_type": "code",
   "execution_count": 82,
   "metadata": {},
   "outputs": [
    {
     "name": "stdout",
     "output_type": "stream",
     "text": [
      "Accuracy of plane : 81 %\n",
      "Accuracy of   car : 89 %\n",
      "Accuracy of  bird : 58 %\n",
      "Accuracy of   cat : 64 %\n",
      "Accuracy of  deer : 64 %\n",
      "Accuracy of   dog : 55 %\n",
      "Accuracy of  frog : 76 %\n",
      "Accuracy of horse : 74 %\n",
      "Accuracy of  ship : 80 %\n",
      "Accuracy of truck : 65 %\n"
     ]
    }
   ],
   "source": [
    "class_correct = list(0. for i in range(10))\n",
    "class_total = list(0. for i in range(10))\n",
    "with torch.no_grad():\n",
    "    for data in testLoader:\n",
    "        images, labels = data\n",
    "        outputs = net(images)\n",
    "        _, predicted = torch.max(outputs, 1)\n",
    "        # c returns a tensor of 1's and 0's -- correctly and incorrectly labelled images\n",
    "        c = (predicted == labels)\n",
    "        for i in range(5):\n",
    "            label = labels[i]\n",
    "            class_correct[label] += c[i].item()\n",
    "            class_total[label] += 1\n",
    "\n",
    "\n",
    "for i in range(10):\n",
    "    print('Accuracy of %5s : %2d %%' % (\n",
    "        classes[i], 100 * class_correct[i] / class_total[i]))"
   ]
  }
 ],
 "metadata": {
  "kernelspec": {
   "display_name": "Python 3",
   "language": "python",
   "name": "python3"
  },
  "language_info": {
   "codemirror_mode": {
    "name": "ipython",
    "version": 3
   },
   "file_extension": ".py",
   "mimetype": "text/x-python",
   "name": "python",
   "nbconvert_exporter": "python",
   "pygments_lexer": "ipython3",
   "version": "3.6.5"
  }
 },
 "nbformat": 4,
 "nbformat_minor": 2
}
